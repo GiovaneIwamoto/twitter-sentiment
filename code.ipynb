{
  "cells": [
    {
      "attachments": {},
      "cell_type": "markdown",
      "metadata": {
        "id": "61QPcWOHVCVQ"
      },
      "source": [
        "PRE PROCESSING"
      ]
    },
    {
      "cell_type": "code",
      "execution_count": 2,
      "metadata": {
        "colab": {
          "base_uri": "https://localhost:8080/"
        },
        "id": "VjGEdBKtTMnh",
        "outputId": "89fc10eb-1fdc-4b65-f641-f01a53fd5d7c"
      },
      "outputs": [
        {
          "name": "stdout",
          "output_type": "stream",
          "text": [
            "Looking in indexes: https://pypi.org/simple, https://us-python.pkg.dev/colab-wheels/public/simple/\n",
            "Collecting transformers\n",
            "  Downloading transformers-4.30.2-py3-none-any.whl (7.2 MB)\n",
            "\u001b[2K     \u001b[90m━━━━━━━━━━━━━━━━━━━━━━━━━━━━━━━━━━━━━━━━\u001b[0m \u001b[32m7.2/7.2 MB\u001b[0m \u001b[31m83.8 MB/s\u001b[0m eta \u001b[36m0:00:00\u001b[0m\n",
            "\u001b[?25hRequirement already satisfied: filelock in /usr/local/lib/python3.10/dist-packages (from transformers) (3.12.2)\n",
            "Collecting huggingface-hub<1.0,>=0.14.1 (from transformers)\n",
            "  Downloading huggingface_hub-0.15.1-py3-none-any.whl (236 kB)\n",
            "\u001b[2K     \u001b[90m━━━━━━━━━━━━━━━━━━━━━━━━━━━━━━━━━━━━━━\u001b[0m \u001b[32m236.8/236.8 kB\u001b[0m \u001b[31m27.2 MB/s\u001b[0m eta \u001b[36m0:00:00\u001b[0m\n",
            "\u001b[?25hRequirement already satisfied: numpy>=1.17 in /usr/local/lib/python3.10/dist-packages (from transformers) (1.22.4)\n",
            "Requirement already satisfied: packaging>=20.0 in /usr/local/lib/python3.10/dist-packages (from transformers) (23.1)\n",
            "Requirement already satisfied: pyyaml>=5.1 in /usr/local/lib/python3.10/dist-packages (from transformers) (6.0)\n",
            "Requirement already satisfied: regex!=2019.12.17 in /usr/local/lib/python3.10/dist-packages (from transformers) (2022.10.31)\n",
            "Requirement already satisfied: requests in /usr/local/lib/python3.10/dist-packages (from transformers) (2.27.1)\n",
            "Collecting tokenizers!=0.11.3,<0.14,>=0.11.1 (from transformers)\n",
            "  Downloading tokenizers-0.13.3-cp310-cp310-manylinux_2_17_x86_64.manylinux2014_x86_64.whl (7.8 MB)\n",
            "\u001b[2K     \u001b[90m━━━━━━━━━━━━━━━━━━━━━━━━━━━━━━━━━━━━━━━━\u001b[0m \u001b[32m7.8/7.8 MB\u001b[0m \u001b[31m110.5 MB/s\u001b[0m eta \u001b[36m0:00:00\u001b[0m\n",
            "\u001b[?25hCollecting safetensors>=0.3.1 (from transformers)\n",
            "  Downloading safetensors-0.3.1-cp310-cp310-manylinux_2_17_x86_64.manylinux2014_x86_64.whl (1.3 MB)\n",
            "\u001b[2K     \u001b[90m━━━━━━━━━━━━━━━━━━━━━━━━━━━━━━━━━━━━━━━━\u001b[0m \u001b[32m1.3/1.3 MB\u001b[0m \u001b[31m100.1 MB/s\u001b[0m eta \u001b[36m0:00:00\u001b[0m\n",
            "\u001b[?25hRequirement already satisfied: tqdm>=4.27 in /usr/local/lib/python3.10/dist-packages (from transformers) (4.65.0)\n",
            "Requirement already satisfied: fsspec in /usr/local/lib/python3.10/dist-packages (from huggingface-hub<1.0,>=0.14.1->transformers) (2023.6.0)\n",
            "Requirement already satisfied: typing-extensions>=3.7.4.3 in /usr/local/lib/python3.10/dist-packages (from huggingface-hub<1.0,>=0.14.1->transformers) (4.6.3)\n",
            "Requirement already satisfied: urllib3<1.27,>=1.21.1 in /usr/local/lib/python3.10/dist-packages (from requests->transformers) (1.26.16)\n",
            "Requirement already satisfied: certifi>=2017.4.17 in /usr/local/lib/python3.10/dist-packages (from requests->transformers) (2023.5.7)\n",
            "Requirement already satisfied: charset-normalizer~=2.0.0 in /usr/local/lib/python3.10/dist-packages (from requests->transformers) (2.0.12)\n",
            "Requirement already satisfied: idna<4,>=2.5 in /usr/local/lib/python3.10/dist-packages (from requests->transformers) (3.4)\n",
            "Installing collected packages: tokenizers, safetensors, huggingface-hub, transformers\n",
            "Successfully installed huggingface-hub-0.15.1 safetensors-0.3.1 tokenizers-0.13.3 transformers-4.30.2\n"
          ]
        }
      ],
      "source": [
        "!pip install transformers"
      ]
    },
    {
      "cell_type": "code",
      "execution_count": 30,
      "metadata": {
        "id": "Za5O9ZnGrtRp"
      },
      "outputs": [],
      "source": [
        "from transformers import BertTokenizer\n",
        "from torch.nn.utils.rnn import pad_sequence\n",
        "\n",
        "import torch\n",
        "\n",
        "# Carregar o tokenizer BERT pré-treinado\n",
        "tokenizer = BertTokenizer.from_pretrained('bert-base-multilingual-cased')\n",
        "\n",
        "# Função para realizar o pré-processamento e conversão em representações numéricas\n",
        "def preprocess_data(file_path):\n",
        "    with open(file_path, 'r', encoding='utf-8') as file:\n",
        "        lines = file.readlines()\n",
        "\n",
        "    processed_data = []\n",
        "\n",
        "    for line in lines:\n",
        "        # Limpeza de texto\n",
        "        cleaned_text = line.strip()\n",
        "\n",
        "        # Tokenização\n",
        "        tokens = tokenizer.tokenize(cleaned_text)\n",
        "\n",
        "        # Conversão em representações numéricas\n",
        "        input_ids = tokenizer.convert_tokens_to_ids(tokens)\n",
        "\n",
        "        # Preparação dos dados como tensors\n",
        "        input_ids = torch.tensor(input_ids)\n",
        "\n",
        "        # Adicionar dados pré-processados à lista\n",
        "        processed_data.append(input_ids)\n",
        "\n",
        "    return processed_data"
      ]
    },
    {
      "cell_type": "code",
      "execution_count": 76,
      "metadata": {
        "colab": {
          "base_uri": "https://localhost:8080/"
        },
        "id": "Cq46INicsdwC",
        "outputId": "d26a2199-83b7-4f6a-eb01-a2e74451edd9"
      },
      "outputs": [
        {
          "name": "stdout",
          "output_type": "stream",
          "text": [
            "Exemplo de dado pré-processado:\n",
            "tensor([   157,  13034,  95825,  11090,    131,  91327,  13028,  10142,  10105,\n",
            "         10751, 105741,    119,    146,  16138,  13028,    119,    137,  99843,\n",
            "         24951,  10729,      0,      0,      0,      0,      0,      0,      0,\n",
            "             0,      0,      0,      0,      0,      0,      0,      0,      0,\n",
            "             0,      0,      0,      0,      0,      0,      0,      0,      0,\n",
            "             0,      0,      0,      0,      0,      0,      0,      0,      0,\n",
            "             0,      0,      0,      0,      0,      0,      0,      0])\n",
            "tensor([  157, 13034, 95825, 11090,   131,   146, 30181, 28870, 81160, 16070,\n",
            "        14075, 10160, 62006, 14128, 10635, 26506, 10237,     0,     0,     0,\n",
            "            0,     0,     0,     0,     0,     0,     0,     0,     0,     0,\n",
            "            0,     0,     0,     0,     0,     0,     0,     0,     0,     0,\n",
            "            0,     0,     0,     0,     0,     0,     0,     0,     0])\n"
          ]
        }
      ],
      "source": [
        "from torch.nn.functional import pad\n",
        "\n",
        "# Caminhos dos arquivos de dados\n",
        "positive_file = '/content/drive/MyDrive/tweet_data/positive.txt'\n",
        "negative_file = '/content/drive/MyDrive/tweet_data/negative.txt'\n",
        "\n",
        "# Pré-processamento dos dados positivos\n",
        "positive_data = preprocess_data(positive_file)\n",
        "\n",
        "# Pré-processamento dos dados negativos\n",
        "negative_data = preprocess_data(negative_file)\n",
        "\n",
        "# Função para ajustar o tamanho dos tensores com padding\n",
        "def pad_data(data):\n",
        "    padded_data = pad_sequence(data, batch_first=True, padding_value=0)\n",
        "    return padded_data\n",
        "\n",
        "# Ajustar o tamanho dos tensores positive_data e negative_data\n",
        "positive_data = pad_data(positive_data)\n",
        "negative_data = pad_data(negative_data)\n",
        "\n",
        "# Exemplo de exibição dos dados pré-processados\n",
        "print(\"Exemplo de dado pré-processado:\")\n",
        "print(positive_data[1])\n",
        "print(negative_data[0])\n"
      ]
    },
    {
      "attachments": {},
      "cell_type": "markdown",
      "metadata": {
        "id": "8_0ZkI93t4ZZ"
      },
      "source": [
        "BERT TRAINING"
      ]
    },
    {
      "cell_type": "code",
      "execution_count": 72,
      "metadata": {
        "id": "pTyohewQtQtb"
      },
      "outputs": [],
      "source": [
        "import torch\n",
        "from torch.utils.data import Dataset, DataLoader\n",
        "from transformers import BertTokenizer, BertForSequenceClassification, AdamW\n",
        "from sklearn.metrics import classification_report, confusion_matrix\n",
        "import numpy as np\n",
        "import matplotlib.pyplot as plt"
      ]
    },
    {
      "cell_type": "code",
      "execution_count": 73,
      "metadata": {
        "colab": {
          "base_uri": "https://localhost:8080/"
        },
        "id": "g1vUaHDSvTA7",
        "outputId": "c7def21a-d063-44d1-e241-5345fc12853a"
      },
      "outputs": [
        {
          "name": "stderr",
          "output_type": "stream",
          "text": [
            "Some weights of the model checkpoint at bert-base-multilingual-cased were not used when initializing BertForSequenceClassification: ['cls.predictions.transform.LayerNorm.weight', 'cls.predictions.transform.dense.weight', 'cls.predictions.transform.dense.bias', 'cls.seq_relationship.weight', 'cls.predictions.bias', 'cls.seq_relationship.bias', 'cls.predictions.transform.LayerNorm.bias']\n",
            "- This IS expected if you are initializing BertForSequenceClassification from the checkpoint of a model trained on another task or with another architecture (e.g. initializing a BertForSequenceClassification model from a BertForPreTraining model).\n",
            "- This IS NOT expected if you are initializing BertForSequenceClassification from the checkpoint of a model that you expect to be exactly identical (initializing a BertForSequenceClassification model from a BertForSequenceClassification model).\n",
            "Some weights of BertForSequenceClassification were not initialized from the model checkpoint at bert-base-multilingual-cased and are newly initialized: ['classifier.weight', 'classifier.bias']\n",
            "You should probably TRAIN this model on a down-stream task to be able to use it for predictions and inference.\n"
          ]
        }
      ],
      "source": [
        "# Definir classe Dataset personalizada\n",
        "class CustomDataset(Dataset):\n",
        "    def __init__(self, data, labels):\n",
        "        self.data = data\n",
        "        self.labels = labels\n",
        "\n",
        "    def __len__(self):\n",
        "        return len(self.data)\n",
        "\n",
        "    def __getitem__(self, idx):\n",
        "        return self.data[idx], self.labels[idx]\n",
        "\n",
        "# Carregar o tokenizer BERT pré-treinado\n",
        "tokenizer = BertTokenizer.from_pretrained('bert-base-multilingual-cased')\n",
        "\n",
        "# Definir o modelo BERT para classificação de sequência\n",
        "model = BertForSequenceClassification.from_pretrained('bert-base-multilingual-cased', num_labels=2)\n",
        "\n",
        "# Definir hiperparâmetros\n",
        "batch_size = 16\n",
        "lr = 2e-5\n",
        "num_epochs = 10"
      ]
    },
    {
      "cell_type": "code",
      "execution_count": 79,
      "metadata": {
        "colab": {
          "base_uri": "https://localhost:8080/"
        },
        "id": "uOzmkYhY3lz5",
        "outputId": "d1d90746-bbd6-4433-ed76-0807a340016c"
      },
      "outputs": [
        {
          "name": "stdout",
          "output_type": "stream",
          "text": [
            "Exemplo de dado pré-processado:\n",
            "tensor([   157,  13034,  95825,  11090,    131,  91327,  13028,  10142,  10105,\n",
            "         10751, 105741,    119,    146,  16138,  13028,    119,    137,  99843,\n",
            "         24951,  10729,      0,      0,      0,      0,      0,      0,      0,\n",
            "             0,      0,      0,      0,      0,      0,      0,      0,      0,\n",
            "             0,      0,      0,      0,      0,      0,      0,      0,      0,\n",
            "             0,      0,      0,      0,      0,      0,      0,      0,      0,\n",
            "             0,      0,      0,      0,      0,      0,      0,      0])\n",
            "tensor([  157, 13034, 95825, 11090,   131,   146, 30181, 28870, 81160, 16070,\n",
            "        14075, 10160, 62006, 14128, 10635, 26506, 10237,     0,     0,     0,\n",
            "            0,     0,     0,     0,     0,     0,     0,     0,     0,     0,\n",
            "            0,     0,     0,     0,     0,     0,     0,     0,     0,     0,\n",
            "            0,     0,     0,     0,     0,     0,     0,     0,     0,     0,\n",
            "            0,     0,     0,     0,     0,     0,     0,     0,     0,     0,\n",
            "            0,     0])\n"
          ]
        }
      ],
      "source": [
        "# Verificar o tamanho máximo entre positive_data e negative_data\n",
        "max_len = max(len(positive_data[0]), len(negative_data[0]))\n",
        "\n",
        "# Função para ajustar o tamanho dos tensores com padding até max_len\n",
        "def pad_data_fixed_size(data, max_len):\n",
        "    padded_data = pad_sequence(data, batch_first=True, padding_value=0)\n",
        "    padded_data = padded_data[:, :max_len]\n",
        "    padded_data = pad(padded_data, (0, max_len - padded_data.size(1)), value=0)\n",
        "    return padded_data\n",
        "\n",
        "# Ajustar o tamanho dos tensores positive_data e negative_data\n",
        "positive_data = pad_data_fixed_size(positive_data, max_len)\n",
        "negative_data = pad_data_fixed_size(negative_data, max_len)\n",
        "\n",
        "# Exemplo de exibição dos dados pré-processados\n",
        "print(\"Exemplo de dado pré-processado:\")\n",
        "print(positive_data[1])\n",
        "print(negative_data[0])\n",
        "\n",
        "# Converter os rótulos para tensores\n",
        "positive_labels = torch.tensor([1] * len(positive_data))\n",
        "negative_labels = torch.tensor([0] * len(negative_data))\n",
        "\n",
        "# Concatenar dados e rótulos\n",
        "all_data = torch.cat((positive_data, negative_data))\n",
        "all_labels = torch.cat((positive_labels, negative_labels))\n",
        "\n",
        "# Criar instâncias da classe Dataset\n",
        "dataset = CustomDataset(all_data, all_labels)"
      ]
    },
    {
      "cell_type": "code",
      "execution_count": 80,
      "metadata": {
        "id": "2KX6g2YQ3ozQ"
      },
      "outputs": [],
      "source": [
        "# Dividir o conjunto de dados em treino, validação e teste\n",
        "train_size = int(0.8 * len(dataset))\n",
        "val_size = int(0.1 * len(dataset))\n",
        "test_size = len(dataset) - train_size - val_size\n",
        "\n",
        "train_dataset, val_dataset, test_dataset = torch.utils.data.random_split(dataset, [train_size, val_size, test_size])\n"
      ]
    },
    {
      "cell_type": "code",
      "execution_count": 81,
      "metadata": {
        "id": "JMDN8DR73syp"
      },
      "outputs": [],
      "source": [
        "# Criar DataLoaders para treino, validação e teste\n",
        "train_dataloader = DataLoader(train_dataset, batch_size=batch_size, shuffle=True)\n",
        "val_dataloader = DataLoader(val_dataset, batch_size=batch_size)\n",
        "test_dataloader = DataLoader(test_dataset, batch_size=batch_size)\n"
      ]
    },
    {
      "cell_type": "code",
      "execution_count": 82,
      "metadata": {
        "colab": {
          "base_uri": "https://localhost:8080/"
        },
        "id": "JtdDvex43zYi",
        "outputId": "257806f4-3794-4b0b-bd22-4a255829ea90"
      },
      "outputs": [
        {
          "name": "stderr",
          "output_type": "stream",
          "text": [
            "/usr/local/lib/python3.10/dist-packages/transformers/optimization.py:411: FutureWarning: This implementation of AdamW is deprecated and will be removed in a future version. Use the PyTorch implementation torch.optim.AdamW instead, or set `no_deprecation_warning=True` to disable this warning\n",
            "  warnings.warn(\n"
          ]
        }
      ],
      "source": [
        "# Definir otimizador e função de perda\n",
        "optimizer = AdamW(model.parameters(), lr=lr)\n",
        "loss_fn = torch.nn.CrossEntropyLoss()\n",
        "\n",
        "# Função para calcular a acurácia\n",
        "def accuracy(y_pred, y_true):\n",
        "    _, predicted = torch.max(y_pred, dim=1)\n",
        "    correct = (predicted == y_true).sum().item()\n",
        "    total = y_true.size(0)\n",
        "    return correct / total"
      ]
    },
    {
      "cell_type": "code",
      "execution_count": 83,
      "metadata": {
        "colab": {
          "base_uri": "https://localhost:8080/"
        },
        "id": "B8ipLw4d373D",
        "outputId": "3121a6cd-0620-4b4a-dc12-15f012da553d"
      },
      "outputs": [
        {
          "name": "stdout",
          "output_type": "stream",
          "text": [
            "Epoch 1/10:\n",
            "Train Loss: 0.6758 | Train Accuracy: 0.5417\n",
            "Val Loss: 0.5024 | Val Accuracy: 1.0000\n",
            "-----------------------------------------\n",
            "Epoch 2/10:\n",
            "Train Loss: 0.5243 | Train Accuracy: 0.7812\n",
            "Val Loss: 0.2669 | Val Accuracy: 1.0000\n",
            "-----------------------------------------\n",
            "Epoch 3/10:\n",
            "Train Loss: 0.5021 | Train Accuracy: 0.7500\n",
            "Val Loss: 0.3951 | Val Accuracy: 0.8182\n",
            "-----------------------------------------\n",
            "Epoch 4/10:\n",
            "Train Loss: 0.4754 | Train Accuracy: 0.8021\n",
            "Val Loss: 0.1251 | Val Accuracy: 1.0000\n",
            "-----------------------------------------\n",
            "Epoch 5/10:\n",
            "Train Loss: 0.4092 | Train Accuracy: 0.8229\n",
            "Val Loss: 0.1069 | Val Accuracy: 1.0000\n",
            "-----------------------------------------\n",
            "Epoch 6/10:\n",
            "Train Loss: 0.2955 | Train Accuracy: 0.8750\n",
            "Val Loss: 0.0809 | Val Accuracy: 1.0000\n",
            "-----------------------------------------\n",
            "Epoch 7/10:\n",
            "Train Loss: 0.2679 | Train Accuracy: 0.9479\n",
            "Val Loss: 0.0615 | Val Accuracy: 1.0000\n",
            "-----------------------------------------\n",
            "Epoch 8/10:\n",
            "Train Loss: 0.2139 | Train Accuracy: 0.9688\n",
            "Val Loss: 0.0503 | Val Accuracy: 1.0000\n",
            "-----------------------------------------\n",
            "Epoch 9/10:\n",
            "Train Loss: 0.2277 | Train Accuracy: 0.9479\n",
            "Val Loss: 0.0274 | Val Accuracy: 1.0000\n",
            "-----------------------------------------\n",
            "Epoch 10/10:\n",
            "Train Loss: 0.1636 | Train Accuracy: 0.9583\n",
            "Val Loss: 0.0304 | Val Accuracy: 1.0000\n",
            "-----------------------------------------\n"
          ]
        }
      ],
      "source": [
        "# Listas para armazenar as curvas de loss\n",
        "train_loss_history = []\n",
        "val_loss_history = []\n",
        "\n",
        "# Loop de treinamento\n",
        "for epoch in range(num_epochs):\n",
        "    # Modo de treinamento\n",
        "    model.train()\n",
        "    train_loss = 0.0\n",
        "    train_acc = 0.0\n",
        "\n",
        "    for inputs, labels in train_dataloader:\n",
        "        # Limpar os gradientes\n",
        "        model.zero_grad()\n",
        "\n",
        "        # Preparar os dados de entrada\n",
        "        inputs = pad(inputs, (0, 70 - inputs.size(1)), value=0).to(torch.long)\n",
        "        labels = labels.to(torch.long)\n",
        "\n",
        "        # Obter as saídas do modelo\n",
        "        outputs = model(inputs, labels=labels)\n",
        "        loss, logits = outputs.loss, outputs.logits\n",
        "\n",
        "        # Atualizar os parâmetros do modelo\n",
        "        loss.backward()\n",
        "        optimizer.step()\n",
        "\n",
        "        train_loss += loss.item()\n",
        "        train_acc += accuracy(logits, labels)\n",
        "\n",
        "    # Calcular a média das perdas e acurácia de treinamento\n",
        "    train_loss /= len(train_dataloader)\n",
        "    train_acc /= len(train_dataloader)\n",
        "\n",
        "    # Modo de avaliação\n",
        "    model.eval()\n",
        "    val_loss = 0.0\n",
        "    val_acc = 0.0\n",
        "\n",
        "    with torch.no_grad():\n",
        "        for inputs, labels in val_dataloader:\n",
        "            inputs = pad(inputs, (0, 70 - inputs.size(1)), value=0).to(torch.long)\n",
        "            labels = labels.to(torch.long)\n",
        "\n",
        "            outputs = model(inputs, labels=labels)\n",
        "            loss, logits = outputs.loss, outputs.logits\n",
        "\n",
        "            val_loss += loss.item()\n",
        "            val_acc += accuracy(logits, labels)\n",
        "\n",
        "    # Calcular a média das perdas e acurácia de validação\n",
        "    val_loss /= len(val_dataloader)\n",
        "    val_acc /= len(val_dataloader)\n",
        "\n",
        "    # Registrar as perdas de treinamento e validação\n",
        "    train_loss_history.append(train_loss)\n",
        "    val_loss_history.append(val_loss)\n",
        "\n",
        "    # Imprimir métricas do treinamento e validação\n",
        "    print(f'Epoch {epoch+1}/{num_epochs}:')\n",
        "    print(f'Train Loss: {train_loss:.4f} | Train Accuracy: {train_acc:.4f}')\n",
        "    print(f'Val Loss: {val_loss:.4f} | Val Accuracy: {val_acc:.4f}')\n",
        "    print('-----------------------------------------')\n"
      ]
    },
    {
      "cell_type": "code",
      "execution_count": 84,
      "metadata": {
        "colab": {
          "base_uri": "https://localhost:8080/",
          "height": 451
        },
        "id": "8STu323r_E4w",
        "outputId": "6ec7c26f-45d1-4169-892e-2ed370ed6323"
      },
      "outputs": [
        {
          "data": {
            "image/png": "[encoded data removed]",
            "text/plain": [
              "<Figure size 640x480 with 1 Axes>"
            ]
          },
          "metadata": {},
          "output_type": "display_data"
        }
      ],
      "source": [
        "# Plotar a curva de loss do treinamento e validação\n",
        "plt.plot(train_loss_history, label='Train Loss')\n",
        "plt.plot(val_loss_history, label='Val Loss')\n",
        "plt.xlabel('Epoch')\n",
        "plt.ylabel('Loss')\n",
        "plt.legend()\n",
        "plt.show()"
      ]
    },
    {
      "cell_type": "code",
      "execution_count": 86,
      "metadata": {
        "colab": {
          "base_uri": "https://localhost:8080/"
        },
        "id": "4dcyhfFz_K0N",
        "outputId": "89ce8dd5-e2f1-45f6-c33c-034a81d21822"
      },
      "outputs": [
        {
          "name": "stdout",
          "output_type": "stream",
          "text": [
            "Test Metrics:\n",
            "Test Loss: 0.4132 | Test Accuracy: 0.8333\n",
            "-----------------------------------------\n",
            "Confusion Matrix:\n",
            "[[3 0]\n",
            " [2 7]]\n",
            "-----------------------------------------\n",
            "Classification Report:\n",
            "              precision    recall  f1-score   support\n",
            "\n",
            "           0       0.60      1.00      0.75         3\n",
            "           1       1.00      0.78      0.88         9\n",
            "\n",
            "    accuracy                           0.83        12\n",
            "   macro avg       0.80      0.89      0.81        12\n",
            "weighted avg       0.90      0.83      0.84        12\n",
            "\n"
          ]
        }
      ],
      "source": [
        "# Modo de avaliação no conjunto de teste\n",
        "model.eval()\n",
        "test_loss = 0.0\n",
        "test_acc = 0.0\n",
        "predictions = []\n",
        "true_labels = []\n",
        "\n",
        "with torch.no_grad():\n",
        "    for inputs, labels in test_dataloader:\n",
        "        inputs = pad(inputs, (0, 70 - inputs.size(1)), value=0).to(torch.long)\n",
        "        labels = labels.to(torch.long)\n",
        "\n",
        "        outputs = model(inputs, labels=labels)\n",
        "        loss, logits = outputs.loss, outputs.logits\n",
        "\n",
        "        test_loss += loss.item()\n",
        "        test_acc += accuracy(logits, labels)\n",
        "\n",
        "        # Armazenar as previsões e rótulos verdadeiros para a matriz de confusão e classification report\n",
        "        predicted_labels = torch.argmax(logits, dim=1)\n",
        "        predictions.extend(predicted_labels.tolist())\n",
        "        true_labels.extend(labels.tolist())\n",
        "\n",
        "# Calcular a média das perdas e acurácia de teste\n",
        "test_loss /= len(test_dataloader)\n",
        "test_acc /= len(test_dataloader)\n",
        "\n",
        "# Imprimir métricas do conjunto de teste\n",
        "print('Test Metrics:')\n",
        "print(f'Test Loss: {test_loss:.4f} | Test Accuracy: {test_acc:.4f}')\n",
        "print('-----------------------------------------')\n",
        "\n",
        "# Calcular a matriz de confusão e classification report\n",
        "cm = confusion_matrix(true_labels, predictions)\n",
        "classification_rep = classification_report(true_labels, predictions)\n",
        "\n",
        "# Imprimir a matriz de confusão\n",
        "print('Confusion Matrix:')\n",
        "print(cm)\n",
        "print('-----------------------------------------')\n",
        "\n",
        "# Imprimir o classification report\n",
        "print('Classification Report:')\n",
        "print(classification_rep)"
      ]
    },
    {
      "cell_type": "code",
      "execution_count": 90,
      "metadata": {
        "colab": {
          "base_uri": "https://localhost:8080/"
        },
        "id": "YU9MkoqlCLLw",
        "outputId": "e46cd896-0cb5-48df-d09f-f55353e20519"
      },
      "outputs": [
        {
          "data": {
            "text/plain": [
              "('/content/data/tokenizer/tokenizer_config.json',\n",
              " '/content/data/tokenizer/special_tokens_map.json',\n",
              " '/content/data/tokenizer/vocab.txt',\n",
              " '/content/data/tokenizer/added_tokens.json')"
            ]
          },
          "execution_count": 90,
          "metadata": {},
          "output_type": "execute_result"
        }
      ],
      "source": [
        "# Caminho para salvar o modelo\n",
        "model_path = \"/content/data/model\"\n",
        "tokenizer_path = \"/content/data/tokenizer\"\n",
        "\n",
        "# Salvar o modelo\n",
        "model.save_pretrained(model_path)\n",
        "tokenizer.save_pretrained(tokenizer_path)\n"
      ]
    },
    {
      "attachments": {},
      "cell_type": "markdown",
      "metadata": {
        "id": "HAxMqpHlDjg4"
      },
      "source": [
        "EXCTRATION TWITTER"
      ]
    },
    {
      "cell_type": "code",
      "execution_count": 99,
      "metadata": {
        "colab": {
          "base_uri": "https://localhost:8080/"
        },
        "id": "evPTNzWN8c17",
        "outputId": "af728dbf-78f0-4d7a-94de-57b8ed70dca4"
      },
      "outputs": [
        {
          "name": "stdout",
          "output_type": "stream",
          "text": [
            "Looking in indexes: https://pypi.org/simple, https://us-python.pkg.dev/colab-wheels/public/simple/\n",
            "Collecting git+https://github.com/JustAnotherArchivist/snscrape.git\n",
            "  Cloning https://github.com/JustAnotherArchivist/snscrape.git to /tmp/pip-req-build-f6jn6n7y\n",
            "  Running command git clone --filter=blob:none --quiet https://github.com/JustAnotherArchivist/snscrape.git /tmp/pip-req-build-f6jn6n7y\n",
            "  Resolved https://github.com/JustAnotherArchivist/snscrape.git to commit 614d4c2029a62d348ca56598f87c425966aaec66\n",
            "  Installing build dependencies ... \u001b[?25l\u001b[?25hdone\n",
            "  Getting requirements to build wheel ... \u001b[?25l\u001b[?25hdone\n",
            "  Installing backend dependencies ... \u001b[?25l\u001b[?25hdone\n",
            "  Preparing metadata (pyproject.toml) ... \u001b[?25l\u001b[?25hdone\n",
            "Requirement already satisfied: requests[socks] in /usr/local/lib/python3.10/dist-packages (from snscrape==0.7.0.20230622) (2.27.1)\n",
            "Requirement already satisfied: lxml in /usr/local/lib/python3.10/dist-packages (from snscrape==0.7.0.20230622) (4.9.2)\n",
            "Requirement already satisfied: beautifulsoup4 in /usr/local/lib/python3.10/dist-packages (from snscrape==0.7.0.20230622) (4.11.2)\n",
            "Requirement already satisfied: filelock in /usr/local/lib/python3.10/dist-packages (from snscrape==0.7.0.20230622) (3.12.2)\n",
            "Requirement already satisfied: soupsieve>1.2 in /usr/local/lib/python3.10/dist-packages (from beautifulsoup4->snscrape==0.7.0.20230622) (2.4.1)\n",
            "Requirement already satisfied: urllib3<1.27,>=1.21.1 in /usr/local/lib/python3.10/dist-packages (from requests[socks]->snscrape==0.7.0.20230622) (1.26.16)\n",
            "Requirement already satisfied: certifi>=2017.4.17 in /usr/local/lib/python3.10/dist-packages (from requests[socks]->snscrape==0.7.0.20230622) (2023.5.7)\n",
            "Requirement already satisfied: charset-normalizer~=2.0.0 in /usr/local/lib/python3.10/dist-packages (from requests[socks]->snscrape==0.7.0.20230622) (2.0.12)\n",
            "Requirement already satisfied: idna<4,>=2.5 in /usr/local/lib/python3.10/dist-packages (from requests[socks]->snscrape==0.7.0.20230622) (3.4)\n",
            "Requirement already satisfied: PySocks!=1.5.7,>=1.5.6 in /usr/local/lib/python3.10/dist-packages (from requests[socks]->snscrape==0.7.0.20230622) (1.7.1)\n",
            "Looking in indexes: https://pypi.org/simple, https://us-python.pkg.dev/colab-wheels/public/simple/\n",
            "Requirement already satisfied: snscrape in /usr/local/lib/python3.10/dist-packages (0.7.0.20230622)\n",
            "Requirement already satisfied: requests[socks] in /usr/local/lib/python3.10/dist-packages (from snscrape) (2.27.1)\n",
            "Requirement already satisfied: lxml in /usr/local/lib/python3.10/dist-packages (from snscrape) (4.9.2)\n",
            "Requirement already satisfied: beautifulsoup4 in /usr/local/lib/python3.10/dist-packages (from snscrape) (4.11.2)\n",
            "Requirement already satisfied: filelock in /usr/local/lib/python3.10/dist-packages (from snscrape) (3.12.2)\n",
            "Requirement already satisfied: soupsieve>1.2 in /usr/local/lib/python3.10/dist-packages (from beautifulsoup4->snscrape) (2.4.1)\n",
            "Requirement already satisfied: urllib3<1.27,>=1.21.1 in /usr/local/lib/python3.10/dist-packages (from requests[socks]->snscrape) (1.26.16)\n",
            "Requirement already satisfied: certifi>=2017.4.17 in /usr/local/lib/python3.10/dist-packages (from requests[socks]->snscrape) (2023.5.7)\n",
            "Requirement already satisfied: charset-normalizer~=2.0.0 in /usr/local/lib/python3.10/dist-packages (from requests[socks]->snscrape) (2.0.12)\n",
            "Requirement already satisfied: idna<4,>=2.5 in /usr/local/lib/python3.10/dist-packages (from requests[socks]->snscrape) (3.4)\n",
            "Requirement already satisfied: PySocks!=1.5.7,>=1.5.6 in /usr/local/lib/python3.10/dist-packages (from requests[socks]->snscrape) (1.7.1)\n"
          ]
        }
      ],
      "source": [
        "!pip3 install git+https://github.com/JustAnotherArchivist/snscrape.git\n",
        "!pip install snscrape"
      ]
    },
    {
      "cell_type": "code",
      "execution_count": 100,
      "metadata": {
        "id": "s8qVEYDxI632"
      },
      "outputs": [],
      "source": [
        "import snscrape.modules.twitter as sns\n",
        "from torch.nn.functional import softmax\n",
        "import re"
      ]
    },
    {
      "cell_type": "code",
      "execution_count": 101,
      "metadata": {
        "id": "j1_sKDc3E0tx"
      },
      "outputs": [],
      "source": [
        "model_path = \"/content/data/model\"\n",
        "tokenizer_path = \"/content/data/tokenizer\"\n",
        "\n",
        "tokenizer = BertTokenizer.from_pretrained(tokenizer_path)\n",
        "model = BertForSequenceClassification.from_pretrained(model_path, num_labels=2)"
      ]
    },
    {
      "cell_type": "code",
      "execution_count": null,
      "metadata": {
        "id": "eIYv7azdG_Yd"
      },
      "outputs": [],
      "source": [
        "# URL do tweet da página @DOTA2\n",
        "tweet_url = \"\"\n",
        "\n",
        "# Função para extrair o ID do tweet a partir do URL\n",
        "def extract_tweet_id(url):\n",
        "    return url.split(\"/\")[-1]\n",
        "\n",
        "# Extrair o ID do tweet\n",
        "tweet_id = extract_tweet_id(tweet_url)\n",
        "\n",
        "# Construir a query de pesquisa usando o ID do tweet\n",
        "query = f\"url:{tweet_id} lang:en\"\n",
        "\n",
        "# Realizar a pesquisa\n",
        "tweets = list(sns.TwitterSearchScraper(query).get_items())\n",
        "\n",
        "def preprocess_text(text):\n",
        "    # Remover caracteres especiais\n",
        "    text = re.sub(r\"[^\\w\\s]\", \"\", text)\n",
        "    return text\n",
        "\n",
        "# Exibir os tweets capturados\n",
        "for tweet in tweets:\n",
        "    print(\"==================================================================\")\n",
        "    #print(\"USER: @\",tweet.username)\n",
        "    print(\"TWEET: \",tweet.content)\n",
        "\n",
        "    # Pré-processar o texto do tweet\n",
        "    processed_text = preprocess_text(tweet.content)\n",
        "\n",
        "    # Tokenizar o texto\n",
        "    tokens = tokenizer.encode_plus(\n",
        "        processed_text,\n",
        "        max_length=128,\n",
        "        truncation=True,\n",
        "        padding=\"max_length\",\n",
        "        add_special_tokens=True,\n",
        "        return_tensors=\"pt\"\n",
        "    )\n",
        "\n",
        "    # Obter os inputs do modelo\n",
        "    input_ids = tokens[\"input_ids\"]\n",
        "    attention_mask = tokens[\"attention_mask\"]\n",
        "\n",
        "    # Fazer a inferência usando o modelo\n",
        "    outputs = model(input_ids, attention_mask=attention_mask)\n",
        "    logits = outputs.logits\n",
        "    probabilities = softmax(logits, dim=1)\n",
        "\n",
        "    # Obter a classe predita (0 para negativo, 1 para positivo)\n",
        "    predicted_class = torch.argmax(probabilities).item()\n",
        "\n",
        "    # Exibir a classificação\n",
        "    if predicted_class == 0:\n",
        "        print(\"CLASSIFICAÇÃO: Negative\")\n",
        "    else:\n",
        "        print(\"CLASSIFICAÇÃO: Positive\")"
      ]
    }
  ],
  "metadata": {
    "colab": {
      "provenance": []
    },
    "kernelspec": {
      "display_name": "Python 3",
      "name": "python3"
    },
    "language_info": {
      "name": "python"
    }
  },
  "nbformat": 4,
  "nbformat_minor": 0
}
